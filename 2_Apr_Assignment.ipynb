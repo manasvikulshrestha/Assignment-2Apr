{
 "cells": [
  {
   "cell_type": "markdown",
   "id": "72748f34-213d-4749-a701-29ed2f7f24cb",
   "metadata": {},
   "source": [
    "Q1. What is the purpose of grid search cv in machine learning, and how does it work?\n",
    "Q2. Describe the difference between grid search cv and randomize search cv, and when might you choose\n",
    "one over the other?\n",
    "Q3. What is data leakage, and why is it a problem in machine learning? Provide an example.\n",
    "Q4. How can you prevent data leakage when building a machine learning model?\n",
    "Q5. What is a confusion matrix, and what does it tell you about the performance of a classification model?\n",
    "Q6. Explain the difference between precision and recall in the context of a confusion matrix.\n",
    "Q7. How can you interpret a confusion matrix to determine which types of errors your model is making?\n",
    "Q8. What are some common metrics that can be derived from a confusion matrix, and how are they\n",
    "calculated?\n",
    "Q9. What is the relationship between the accuracy of a model and the values in its confusion matrix?\n",
    "Q10. How can you use a confusion matrix to identify potential biases or limitations in your machine learning\n",
    "model?"
   ]
  },
  {
   "cell_type": "markdown",
   "id": "9cf35f0d-f8b9-4ac6-8c80-bb77b91a4298",
   "metadata": {},
   "source": [
    "1. **Purpose of grid search CV**:\n",
    "   - Grid search CV (Cross-Validation) is a technique used to tune hyperparameters of machine learning models. It systematically searches through a predefined grid of hyperparameters, evaluating model performance using cross-validation, and selects the hyperparameters that yield the best performance.\n",
    "\n",
    "2. **Difference between grid search CV and random search CV**:\n",
    "   - Grid search CV exhaustively searches through all combinations of hyperparameters specified in a grid, whereas random search CV randomly samples hyperparameters from a specified distribution.\n",
    "   - Grid search CV is more computationally expensive but guarantees finding the best combination within the search space, while random search CV is less computationally intensive but may miss the optimal combination.\n",
    "   - Use grid search when the search space is relatively small and the computational resources are available. Use random search when the search space is large or when computational resources are limited.\n",
    "\n",
    "3. **Data leakage**:\n",
    "   - Data leakage refers to the unintentional incorporation of information from the validation or test set into the training process, leading to overly optimistic performance estimates.\n",
    "   - It is a problem because it artificially inflates the performance of the model and results in poor generalization to unseen data.\n",
    "   - Example: Including future information in the training data when predicting past events, such as stock prices, leads to data leakage because the model is trained using information that would not have been available at the time of prediction.\n",
    "\n",
    "4. **Preventing data leakage**:\n",
    "   - Split the data into separate training, validation, and test sets before any preprocessing or feature engineering steps.\n",
    "   - Apply preprocessing steps (e.g., feature scaling, imputation) based only on the training set and then apply the same transformations to the validation and test sets.\n",
    "   - Avoid using information from the validation or test sets during feature engineering, model selection, or hyperparameter tuning.\n",
    "\n",
    "5. **Confusion matrix**:\n",
    "   - A confusion matrix is a table that visualizes the performance of a classification model by comparing predicted class labels with actual class labels.\n",
    "   - It consists of four cells: true positive (TP), true negative (TN), false positive (FP), and false negative (FN).\n",
    "\n",
    "6. **Precision and Recall**:\n",
    "   - **Precision** measures the accuracy of positive predictions, calculated as TP / (TP + FP). It indicates the proportion of true positive predictions among all positive predictions made by the model.\n",
    "   - **Recall** measures the model's ability to find all the positive instances, calculated as TP / (TP + FN). It indicates the proportion of true positive predictions among all actual positive instances in the data.\n",
    "\n",
    "7. **Interpreting a confusion matrix**:\n",
    "   - By examining the cells of the confusion matrix, you can identify different types of errors made by the model:\n",
    "     - True positives (TP): Correctly predicted positive instances.\n",
    "     - True negatives (TN): Correctly predicted negative instances.\n",
    "     - False positives (FP): Incorrectly predicted positive instances (Type I error).\n",
    "     - False negatives (FN): Incorrectly predicted negative instances (Type II error).\n",
    "   - Understanding these errors helps diagnose model performance and identify areas for improvement.\n",
    "\n",
    "8. **Common metrics from a confusion matrix**:\n",
    "   - Besides precision and recall, other common metrics include:\n",
    "     - **Accuracy**: (TP + TN) / (TP + TN + FP + FN)\n",
    "     - **F1 score**: 2 * (Precision * Recall) / (Precision + Recall)\n",
    "     - **Specificity**: TN / (TN + FP)\n",
    "     - **False Positive Rate (FPR)**: FP / (FP + TN)\n",
    "\n",
    "9. **Relationship between accuracy and confusion matrix**:\n",
    "   - Accuracy measures the overall correctness of the model's predictions.\n",
    "   - It is directly influenced by the values in the confusion matrix, particularly the number of true positives and true negatives.\n",
    "\n",
    "10. **Using a confusion matrix to identify biases or limitations**:\n",
    "    - Examining the distribution of errors across different classes in the confusion matrix can reveal biases or limitations in the model.\n",
    "    - For example, disproportionate numbers of false positives or false negatives for certain classes may indicate biases in the training data or model limitations for those classes."
   ]
  }
 ],
 "metadata": {
  "kernelspec": {
   "display_name": "Python 3 (ipykernel)",
   "language": "python",
   "name": "python3"
  },
  "language_info": {
   "codemirror_mode": {
    "name": "ipython",
    "version": 3
   },
   "file_extension": ".py",
   "mimetype": "text/x-python",
   "name": "python",
   "nbconvert_exporter": "python",
   "pygments_lexer": "ipython3",
   "version": "3.10.8"
  }
 },
 "nbformat": 4,
 "nbformat_minor": 5
}
